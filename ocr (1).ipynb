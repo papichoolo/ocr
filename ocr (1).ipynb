{
  "nbformat": 4,
  "nbformat_minor": 0,
  "metadata": {
    "colab": {
      "provenance": []
    },
    "kernelspec": {
      "name": "python3",
      "display_name": "Python 3"
    },
    "language_info": {
      "name": "python"
    },
    "accelerator": "GPU",
    "gpuClass": "standard"
  },
  "cells": [
    {
      "cell_type": "code",
      "execution_count": null,
      "metadata": {
        "colab": {
          "base_uri": "https://localhost:8080/"
        },
        "id": "fC5InYpZF9C5",
        "outputId": "19cb68b7-6b85-48c3-e25a-0544a496ef07"
      },
      "outputs": [
        {
          "output_type": "stream",
          "name": "stdout",
          "text": [
            "[[[[83, 82], [1026, 82], [1026, 236], [83, 236]], 'Satisfied conveying an dependent contented he gentleman agreeable d0 be. Harrant private blushes removed an in equally totally if. Delivered dejection necessary objection d0 Mr\" prevailed: Mr feeling do chiefly cordial in dQ. Hater timed folly right ahare if oh truth Imprudence attachment him his tor sympathize. Large above be +0 means: Dashhood do provided stronger is. Bul discretion frequently sin the she instrument unaffected admiration eVerything.'], [[[82, 254], [1026, 254], [1026, 434], [82, 434]], 'Her extensive perceived may any sincerity extremity Indeed add rather may pretly See. Old propriety delighted explained perceived otherhise objection sah ten her- Doubl merit sir the right these alone keeps: By sometimes intertion smallness he northhard_ Consisted He otherhise arranging commanded discovery it explained Does cold even Song like tKto Yet been: Literature interested announcing tor terminated him  inquietude day shy: Himself he tentile chicken perhaps Naiting if highest Do it Continued promotion has consulted fat improving not Hay;'], [[[83, 450], [1016, 450], [1016, 730], [83, 730]], \"Far quitting dhelling gracetul Ihe likewise received building: An fact S0 t0 that shoh am shed sold cold. Unaffected remarkably get Yet introduced exce- 'llence terminated leda Result either design sah she esteem and; On ashamed no inhabit terrars 1{ Ye besides resolve: Onn judgrent directly fek #rifling. Elderly as pursuit at regular do parlors- Rank Hhat has into tond she= Qf friendship on inhabiting diminution discoVered as- Did friendly eat breeding building feh nons Object he banton no effect played valley afford; Period So t0 oppose He little seeing or branchs Announcing contrasted not imprudence add frequently YQu possession Wrs, Period sak his houses square and misery Hour had held lain give yet_\"]]\n",
            "[[[[108, 94], [1049, 94], [1049, 274], [108, 274]], 'Latte afr aid it 241 Jooked nck. Very ye lady gir] ttarm good Ine make. I tardly cousin Itte alcays. An shortiy illage is raising Ne sheuing replied. She the favourabl? partialily unhabi- ting travelling impressior Fiut (1io. Ki: six are entrealies insiruent acceptance Un satiable fwer _ Aifongz+ #5 er Qnt herze)f chapier entered arried no. Sold od ten are qui} Jos? deal his sent. Y0u correet NJN S#X several tar distant beliove journey par lies. He  shyress #fvjuire uncivil Jfixeg it erried {0.']]\n",
            "[[[[83, 80], [1023, 80], [1023, 236], [83, 236]], \"Ssisfled coriusying J0 depandent contanted t gntlenan '9reaabla do bo. Horrant privsta blusts 'moved 10 in squslly totlly if, Deljuered djoc(lon rrctsssry objectiori do mr preusiled, Mr   fccling do chicfly cordinl In do. Hater timtd folly right ~ujr $ if oh truth. Imprudenc attachmtnt him his for symosthiro. Larga above ba t0 mts Dashnood do providad strongsr 1S, Bul discretion fraquently sir thie sh 1nstrument urmaffocted #mirwion ~Vcrything:\"], [[[84, 256], [1026, 256], [1026, 434], [84, 434]], 'Hr extenfIVs parcciued mh Irky sncerity extrenity: Indeed sdd rather m*y pretty {C Old propricty dcllghted xplbirvd Percciued othrhlsa obJection {0 tan htr Doubi mtr1t sr th rlght ths slorm keps. By somctiats intention smallnass ha northward. Consisted Lrt othtrwise arr inging commanded dlfcoutry 1t xplined. Dot} cold ~cn {onig l1ke two Yt pen. Litcriturs Interestad tnnouncing for ferminsted him 1rquictuda d*y sty: Himse]f h fartila chicke parhaps Wniting 1 f highast Oo Jt. Contirued promotion hw consulted f0 Improuing nof Fay;'], [[[84, 452], [998, 452], [998, 583], [84, 583]], 'Far quitling dhelling graccful tho likewist recsived building; An fact {Q t0 thal shoh Im sld sold cold. Urmaffectad remarkably gct Y6( introduced excellence ferminated lad. Aosult +dttr dslgr J4h st astm ad. Qn shamd C1o 1rhsbit ftrrors YF bsidos resolu_ Own Judgmant directly fo trifling: Elderly J Fuursuit raguler do parlorf. Aank Nha hs 1nito fond she'], [[[83, 602], [1015, 602], [1015, 730], [83, 730]], '0f friendship on inhabitlrv) dimirwution discoverad 1. Did friendly 4t bresding buildirg {+N4 nor. (bjact ha barton no Affact plyyed uslley \"ford_ Period {O Oppos LtY Jittls {(1rig or branch. ArnoUrclrig contrasted not imprudence \\'dd frcqu+ntly YCJ POfc1on Dr$_ Pariod J4 his houses {qujrt ond Mlstry Kour had hald loin give Yt_']]\n"
          ]
        }
      ],
      "source": [
        "import easyocr\n",
        "import cv2\n",
        "import pandas as pd\n",
        "from google.colab.patches import cv2_imshow\n",
        "\n",
        "img = cv2.imread(\"/content/1.jpg\")\n",
        "#converting to greyscale\n",
        "gray = cv2.cvtColor(img, cv2.COLOR_BGR2GRAY)\n",
        "#thresholding the image into a binary image\n",
        "thresh = cv2.threshold(gray, 0, 255, cv2.THRESH_BINARY | cv2.THRESH_OTSU)[1]\n",
        "#using easyocr to do the reading\n",
        "reader = easyocr.Reader(['en'])\n",
        "result = reader.readtext(thresh,paragraph=\"True\")\n",
        "print(result)\n",
        "\n",
        "\n",
        "#same for image2 \n",
        "img2 = cv2.imread(\"/content/2.jpg\")\n",
        "\n",
        "gray2 = cv2.cvtColor(img2, cv2.COLOR_BGR2GRAY)\n",
        "noise2=cv2.medianBlur(gray2,3)\n",
        "thresh2 = cv2.threshold(noise2, 0, 255, cv2.THRESH_BINARY | cv2.THRESH_OTSU)[1]\n",
        "\n",
        "result = reader.readtext(thresh2,paragraph=\"True\")\n",
        "print(result)\n",
        "\n",
        "\n",
        "#same for image 3 but no denoising an already blurry image\n",
        "img3 = cv2.imread(\"/content/3.jpg\")\n",
        "\n",
        "gray3 = cv2.cvtColor(img3, cv2.COLOR_BGR2GRAY)\n",
        "thresh3 = cv2.threshold(gray3, 0, 255, cv2.THRESH_BINARY | cv2.THRESH_OTSU)[1]\n",
        "\n",
        "result = reader.readtext(thresh3,paragraph=\"True\")\n",
        "print(result)\n",
        "\n",
        "\n"
      ]
    }
  ]
}